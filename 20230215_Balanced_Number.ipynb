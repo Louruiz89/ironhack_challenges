{
 "cells": [
  {
   "cell_type": "code",
   "execution_count": 1,
   "id": "a9f8a22f",
   "metadata": {},
   "outputs": [],
   "source": [
    "def balanced_num(number):\n",
    "    nums = [int(n) for n in str(number)]\n",
    "    if len(nums) <= 2:\n",
    "        return \"Balanced\"\n",
    "    elif len(nums) % 2 == 0:\n",
    "        if sum(nums[:len(nums)//2-1]) == sum(nums[len(nums)//2 + 1:]):\n",
    "            return \"Balanced\"\n",
    "        else:\n",
    "            return \"Not Balanced\"\n",
    "    else:\n",
    "        if sum(nums[:len(nums)//2]) == sum(nums[len(nums)//2 + 1:]):\n",
    "            return \"Balanced\"\n",
    "        else:\n",
    "            return \"Not Balanced\""
   ]
  },
  {
   "cell_type": "code",
   "execution_count": null,
   "id": "b22d9416",
   "metadata": {},
   "outputs": [],
   "source": []
  }
 ],
 "metadata": {
  "kernelspec": {
   "display_name": "Python [conda env:m1_env]",
   "language": "python",
   "name": "conda-env-m1_env-py"
  },
  "language_info": {
   "codemirror_mode": {
    "name": "ipython",
    "version": 3
   },
   "file_extension": ".py",
   "mimetype": "text/x-python",
   "name": "python",
   "nbconvert_exporter": "python",
   "pygments_lexer": "ipython3",
   "version": "3.9.16"
  }
 },
 "nbformat": 4,
 "nbformat_minor": 5
}
