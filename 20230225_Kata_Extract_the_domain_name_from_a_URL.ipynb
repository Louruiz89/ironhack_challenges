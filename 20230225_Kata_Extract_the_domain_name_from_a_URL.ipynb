{
 "cells": [
  {
   "cell_type": "code",
   "execution_count": null,
   "id": "19457976",
   "metadata": {},
   "outputs": [],
   "source": [
    "def domain_name(url):\n",
    "    url = url.replace(\"https\",\"\").replace(\"http\",\"\").replace(\"www.\",\"\")\n",
    "    import re\n",
    "    regex = \"([^\\W]+)(.*?)([^.]+)\"\n",
    "\n",
    "    str(re.findall(regex,url)[0])\n",
    "\n",
    "    if \".\" in str(re.findall(regex,url)[0]):\n",
    "        return re.findall(regex,url)[0][0]\n",
    "    else:\n",
    "        return \"\".join(re.findall(regex,url)[0])"
   ]
  }
 ],
 "metadata": {
  "kernelspec": {
   "display_name": "Python [conda env:m1_env]",
   "language": "python",
   "name": "conda-env-m1_env-py"
  },
  "language_info": {
   "codemirror_mode": {
    "name": "ipython",
    "version": 3
   },
   "file_extension": ".py",
   "mimetype": "text/x-python",
   "name": "python",
   "nbconvert_exporter": "python",
   "pygments_lexer": "ipython3",
   "version": "3.9.16"
  }
 },
 "nbformat": 4,
 "nbformat_minor": 5
}
