{
 "cells": [
  {
   "cell_type": "code",
   "execution_count": null,
   "id": "21c75b7f",
   "metadata": {},
   "outputs": [],
   "source": [
    "class User(object):\n",
    "    \n",
    "    def __init__(self, name, balance, checking_account):\n",
    "        self.name = name\n",
    "        self.balance = balance\n",
    "        self.checking_account = checking_account\n",
    "    \n",
    "    def  withdraw(self, amount):\n",
    "        if amount > self.balance:\n",
    "            raise ValueError\n",
    "        self.balance = int(self.balance - amount)\n",
    "        return f\"{self.name} has {self.balance}.\"\n",
    "    \n",
    "    def check(self, sender, amount):\n",
    "        if not sender.checking_account or amount > sender.balance:\n",
    "            raise ValueError\n",
    "        sender.balance = int(sender.balance - amount)\n",
    "        self.balance = int(self.balance + amount)\n",
    "        return f\"{self.name} has {self.balance} and {sender.name} has {sender.balance}.\"\n",
    "        \n",
    "    def add_cash(self, amount):\n",
    "        self.balance = int(self.balance + amount)\n",
    "        return f\"{self.name} has {self.balance}.\""
   ]
  }
 ],
 "metadata": {
  "kernelspec": {
   "display_name": "Python [conda env:m1_env]",
   "language": "python",
   "name": "conda-env-m1_env-py"
  },
  "language_info": {
   "codemirror_mode": {
    "name": "ipython",
    "version": 3
   },
   "file_extension": ".py",
   "mimetype": "text/x-python",
   "name": "python",
   "nbconvert_exporter": "python",
   "pygments_lexer": "ipython3",
   "version": "3.9.16"
  }
 },
 "nbformat": 4,
 "nbformat_minor": 5
}
