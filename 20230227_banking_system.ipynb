{
 "cells": [
  {
   "cell_type": "code",
   "execution_count": null,
   "id": "21c75b7f",
   "metadata": {},
   "outputs": [],
   "source": [
    "class User(object):\n",
    "    def __init__(self, name, balance, checking_account):\n",
    "        self.name = name\n",
    "        self.balance = balance\n",
    "        self.checking_account = checking_account\n",
    "        \n",
    "\n",
    "    def withdraw(self):\n",
    "        amount = float\n",
    "        if self.balance >= amount:\n",
    "            self.balance -= amount\n",
    "            print(\"\\n {self.name} has {self.balance}:\", amount)\n",
    "        else:\n",
    "            print(\"\\n Insufficient balance  \")\n",
    "            \n",
    "    def check(self, sender_name, receiver_name, amount):\n",
    "        total_amount = float\n",
    "        if self.balance >= amount:\n",
    "            self.balance += amount\n",
    "        return f\"sender {self.name} has {self.balance} and receiver {self.name} has {self.balance}\"\n",
    "    \n",
    "    def add_cash(self, amount):\n",
    "        self.balance += amount\n",
    "        return f\"{self.name} has {self.balance}\"\n",
    "    \n",
    "Jeff = User(name = 'Jeff',\n",
    "           balance = 70,\n",
    "           checking_account = True)\n",
    "\n",
    "Joe = User(name = 'Joe',\n",
    "           balance = 70,\n",
    "           checking_account = True)"
   ]
  }
 ],
 "metadata": {
  "kernelspec": {
   "display_name": "Python [conda env:m1_env]",
   "language": "python",
   "name": "conda-env-m1_env-py"
  },
  "language_info": {
   "codemirror_mode": {
    "name": "ipython",
    "version": 3
   },
   "file_extension": ".py",
   "mimetype": "text/x-python",
   "name": "python",
   "nbconvert_exporter": "python",
   "pygments_lexer": "ipython3",
   "version": "3.9.16"
  }
 },
 "nbformat": 4,
 "nbformat_minor": 5
}
