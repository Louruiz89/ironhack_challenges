{
 "cells": [
  {
   "cell_type": "code",
   "execution_count": null,
   "id": "2417b9af",
   "metadata": {},
   "outputs": [],
   "source": [
    "import random\n",
    "\n",
    "def find_random_seed(lst):\n",
    "    for n in range(10000):\n",
    "        random.seed(n)\n",
    "        if [random.randint(0, 100) for x in range(10)] == lst:\n",
    "            return n"
   ]
  }
 ],
 "metadata": {
  "kernelspec": {
   "display_name": "Python [conda env:m1_env]",
   "language": "python",
   "name": "conda-env-m1_env-py"
  },
  "language_info": {
   "codemirror_mode": {
    "name": "ipython",
    "version": 3
   },
   "file_extension": ".py",
   "mimetype": "text/x-python",
   "name": "python",
   "nbconvert_exporter": "python",
   "pygments_lexer": "ipython3",
   "version": "3.9.16"
  }
 },
 "nbformat": 4,
 "nbformat_minor": 5
}
